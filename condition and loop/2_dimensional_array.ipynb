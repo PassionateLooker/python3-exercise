{
 "cells": [
  {
   "cell_type": "code",
   "execution_count": null,
   "metadata": {
    "collapsed": true
   },
   "outputs": [],
   "source": [
    "# ---------------------------------------------------------------\n",
    "# python best courses https://courses.tanpham.org/\n",
    "# ---------------------------------------------------------------\n",
    "# Write a Python program which takes two digits m (row) and n (column) as input and generates a two-dimensional array. \n",
    "# The element value in the i-th row and j-th column of the array should be i*j.\n",
    "# Note :\n",
    "# i = 0,1.., m-1 \n",
    "# j = 0,1, n-1.\n",
    "\n",
    "# Input\n",
    "# Input number of rows: 3                                                                                       \n",
    "# Input number of columns: 4  \n",
    "\n",
    "# Output\n",
    "# [[0, 0, 0, 0], [0, 1, 2, 3], [0, 2, 4, 6]] "
   ]
  }
 ],
 "metadata": {
  "kernelspec": {
   "display_name": "Python 3",
   "language": "python",
   "name": "python3"
  },
  "language_info": {
   "codemirror_mode": {
    "name": "ipython",
    "version": 3
   },
   "file_extension": ".py",
   "mimetype": "text/x-python",
   "name": "python",
   "nbconvert_exporter": "python",
   "pygments_lexer": "ipython3",
   "version": "3.6.5"
  }
 },
 "nbformat": 4,
 "nbformat_minor": 2
}
